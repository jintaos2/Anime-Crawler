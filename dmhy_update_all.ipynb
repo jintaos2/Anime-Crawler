{
 "cells": [
  {
   "cell_type": "code",
   "execution_count": 1,
   "metadata": {},
   "outputs": [],
   "source": [
    "import requests\n",
    "import re\n",
    "import time\n",
    "import random\n",
    "import os\n",
    "import datetime"
   ]
  },
  {
   "cell_type": "code",
   "execution_count": 2,
   "metadata": {},
   "outputs": [],
   "source": [
    "def update_dmhy_cache(start_page, end_page):\n",
    "    n = start_page \n",
    "    while n <= end_page:\n",
    "        print(\"getting page {} ...\".format(n))\n",
    "        try:\n",
    "            content = requests.get(\"https://share.dmhy.org/topics/list/page/{}\".format(n)).text\n",
    "            store_cache(content, 'dmhy/cache/{}.txt'.format(n))\n",
    "            n+=1\n",
    "        except Exception as e:\n",
    "            print(datetime.datetime.today(), e)\n",
    "            time.sleep(8)\n",
    "        time.sleep(2+random.random())   \n",
    "        \n",
    "def store_cache(content, filename):\n",
    "    table = re.findall(r'<tbody>[\\s\\S]*</tbody>', content)[0]    \n",
    "    rows = re.findall(r'<tr[\\s\\S]*?</tr>',table)                          \n",
    "    new_items = []\n",
    "    for i in rows:\n",
    "        detail = re.findall(r'<td[\\s\\S]*?</td>',re.sub(r'[\\n\\t]','',i))  # cols in a row\n",
    "        release_time = re.findall(r'<span.*?>(.*?)</span>',detail[0])[0]\n",
    "        release_type = re.sub(r'<.*?>','',detail[1])\n",
    "        release_title = re.findall(r'<a.*?>(.*?)</a>',detail[2])[-1]\n",
    "        release_magnet = re.findall( r'href=\"([^\"]*)\"',detail[3])[-1]\n",
    "        release_size = re.sub(r'<.*?>','',detail[4])\n",
    "        new_items.append(','.join([release_time, release_type, release_title, release_magnet,release_size])+'\\n\\n')\n",
    "    with open(filename, 'w', encoding='utf8') as f:\n",
    "        for i in  reversed(new_items):\n",
    "            f.write(i)  "
   ]
  },
  {
   "cell_type": "code",
   "execution_count": 3,
   "metadata": {},
   "outputs": [],
   "source": [
    "def update_dmhy(start_page, end_page):\n",
    "    for i in reversed(range(start_page, end_page+1)):\n",
    "        print(\"updating page {} ...\".format(i))\n",
    "        update_one_page(i)\n",
    "        \n",
    "def update_one_page(n):\n",
    "    with open('dmhy/cache/{}.txt'.format(n), 'r', encoding='utf8') as f:\n",
    "        records = [i for i in f.readlines() if len(i)>10]\n",
    "    dict_records = {}\n",
    "    for i in records:\n",
    "        year = i[0:4]\n",
    "        month = i[5:7]\n",
    "        idx = '{}/{}'.format(year, month)\n",
    "        filename = 'dmhy/{}-{}.txt'.format(year,month)\n",
    "        if not idx in dict_records:\n",
    "            prev_records(year, month, dict_records)\n",
    "        if not i in dict_records[idx]:\n",
    "            dict_records[idx].add(i)\n",
    "            with open(filename,'a+',encoding='utf8') as f:\n",
    "                f.write(i+'\\n')\n",
    "            \n",
    "def prev_records(year, month, dict_records):\n",
    "    filename = 'dmhy/{}-{}.txt'.format(year,month)\n",
    "    idx = '{}/{}'.format(year, month)\n",
    "    if not os.path.exists(filename):\n",
    "        dict_records[idx] = set()\n",
    "        return \n",
    "    with open(filename,'r',encoding='utf8') as f:\n",
    "        dict_records[idx] = set([i for i in f.readlines() if len(i)>10])"
   ]
  },
  {
   "cell_type": "code",
   "execution_count": 4,
   "metadata": {},
   "outputs": [
    {
     "name": "stdout",
     "output_type": "stream",
     "text": [
      "getting page 1 ...\n",
      "getting page 2 ...\n",
      "getting page 3 ...\n",
      "getting page 4 ...\n",
      "getting page 5 ...\n",
      "getting page 6 ...\n",
      "getting page 7 ...\n",
      "getting page 8 ...\n",
      "getting page 9 ...\n"
     ]
    }
   ],
   "source": [
    "start = 1\n",
    "end = 9\n",
    "update_dmhy_cache(start,end)"
   ]
  },
  {
   "cell_type": "code",
   "execution_count": 5,
   "metadata": {},
   "outputs": [
    {
     "name": "stdout",
     "output_type": "stream",
     "text": [
      "updating page 9 ...\n",
      "updating page 8 ...\n",
      "updating page 7 ...\n",
      "updating page 6 ...\n",
      "updating page 5 ...\n",
      "updating page 4 ...\n",
      "updating page 3 ...\n",
      "updating page 2 ...\n",
      "updating page 1 ...\n"
     ]
    }
   ],
   "source": [
    "update_dmhy(start,end)"
   ]
  },
  {
   "cell_type": "code",
   "execution_count": null,
   "metadata": {},
   "outputs": [],
   "source": []
  },
  {
   "cell_type": "code",
   "execution_count": null,
   "metadata": {},
   "outputs": [],
   "source": []
  },
  {
   "cell_type": "code",
   "execution_count": null,
   "metadata": {},
   "outputs": [],
   "source": []
  },
  {
   "cell_type": "code",
   "execution_count": null,
   "metadata": {},
   "outputs": [],
   "source": []
  },
  {
   "cell_type": "code",
   "execution_count": null,
   "metadata": {},
   "outputs": [],
   "source": []
  },
  {
   "cell_type": "code",
   "execution_count": null,
   "metadata": {},
   "outputs": [],
   "source": []
  }
 ],
 "metadata": {
  "kernelspec": {
   "display_name": "Python 3",
   "language": "python",
   "name": "python3"
  },
  "language_info": {
   "codemirror_mode": {
    "name": "ipython",
    "version": 3
   },
   "file_extension": ".py",
   "mimetype": "text/x-python",
   "name": "python",
   "nbconvert_exporter": "python",
   "pygments_lexer": "ipython3",
   "version": "3.8.3"
  }
 },
 "nbformat": 4,
 "nbformat_minor": 4
}
