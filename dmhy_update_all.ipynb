{
 "cells": [
  {
   "cell_type": "code",
   "execution_count": 1,
   "metadata": {},
   "outputs": [],
   "source": [
    "import requests\n",
    "import re\n",
    "import time\n",
    "import random\n",
    "import os\n",
    "import datetime\n",
    "import xmlrpc.client"
   ]
  },
  {
   "cell_type": "markdown",
   "metadata": {},
   "source": [
    "### Update"
   ]
  },
  {
   "cell_type": "code",
   "execution_count": 2,
   "metadata": {},
   "outputs": [],
   "source": [
    "# store dmhy.org historys in local cache, by page\n",
    "def update_dmhy_cache(start_page, end_page):\n",
    "    n = start_page \n",
    "    while n <= end_page:\n",
    "        print(\"getting page {} ...\".format(n))\n",
    "        try:\n",
    "            content = requests.get(\"https://share.dmhy.org/topics/list/page/{}\".format(n)).text\n",
    "            store_cache(content, 'dmhy/cache/{}.txt'.format(n))  # path: dmhy/cache/n.txt\n",
    "            n+=1\n",
    "        except Exception as e:\n",
    "            print(datetime.datetime.today(), e)\n",
    "            time.sleep(8)\n",
    "        time.sleep(2+random.random())   # interval\n",
    "        \n",
    "def store_cache(content, filename):\n",
    "    table = re.findall(r'<tbody>[\\s\\S]*</tbody>', content)[0]  \n",
    "    rows = re.findall(r'<tr[\\s\\S]*?</tr>',table)                          \n",
    "    new_items = []\n",
    "    for i in rows:\n",
    "        detail = re.findall(r'<td[\\s\\S]*?</td>',re.sub(r'[\\n\\t]','',i))  # cols in a row\n",
    "        release_time = re.findall(r'<span.*?>(.*?)</span>',detail[0])[0]\n",
    "        release_type = re.sub(r'<.*?>','',detail[1])\n",
    "        release_title = re.findall(r'<a.*?>(.*?)</a>',detail[2])[-1]\n",
    "        release_title = re.sub(r',','.',release_title)\n",
    "        release_magnet = re.findall( r'href=\"([^\"]*)\"',detail[3])[-1]\n",
    "        release_size = re.sub(r'<.*?>','',detail[4])\n",
    "        new_items.append(','.join([release_time, release_type, release_title, release_magnet,release_size])+'\\n\\n')\n",
    "    with open(filename, 'w', encoding='utf8') as f:\n",
    "        for i in  reversed(new_items):\n",
    "            f.write(i)  "
   ]
  },
  {
   "cell_type": "code",
   "execution_count": 3,
   "metadata": {},
   "outputs": [],
   "source": [
    "\"\"\"\n",
    "update animate records from local cache by month\n",
    "records in file: from old to new\n",
    "\"\"\"\n",
    "\n",
    "def update_dmhy(start_page, end_page):\n",
    "    for i in reversed(range(start_page, end_page+1)):\n",
    "        print(\"updating page {} ...\".format(i))\n",
    "        update_one_page(i)\n",
    "        \n",
    "def update_one_page(n):\n",
    "    with open('dmhy/cache/{}.txt'.format(n), 'r', encoding='utf8') as f:\n",
    "        records = [i for i in f.readlines() if len(i)>10]\n",
    "    dict_records = {}\n",
    "    for i in records:\n",
    "        year = i[0:4]\n",
    "        month = i[5:7]\n",
    "        idx = '{}/{}'.format(year, month)\n",
    "        filename = 'dmhy/{}-{}.txt'.format(year,month)\n",
    "        if not idx in dict_records:    # load odd records by month\n",
    "            prev_records(year, month, dict_records)\n",
    "        if not i in dict_records[idx]: # ignore duplicate records\n",
    "            dict_records[idx].add(i)\n",
    "            with open(filename,'a+',encoding='utf8') as f:  # append mode\n",
    "                f.write(i+'\\n')\n",
    "            \n",
    "def prev_records(year, month, dict_records):\n",
    "    filename = 'dmhy/{}-{}.txt'.format(year,month)\n",
    "    idx = '{}/{}'.format(year, month)\n",
    "    if not os.path.exists(filename):\n",
    "        dict_records[idx] = set()\n",
    "        return \n",
    "    with open(filename,'r',encoding='utf8') as f:\n",
    "        dict_records[idx] = set([i for i in f.readlines() if len(i)>10])"
   ]
  },
  {
   "cell_type": "code",
   "execution_count": 4,
   "metadata": {},
   "outputs": [
    {
     "name": "stdout",
     "output_type": "stream",
     "text": [
      "getting page 1 ...\n",
      "getting page 2 ...\n",
      "getting page 3 ...\n",
      "getting page 4 ...\n",
      "getting page 5 ...\n",
      "getting page 6 ...\n",
      "getting page 7 ...\n",
      "getting page 8 ...\n",
      "getting page 9 ...\n"
     ]
    }
   ],
   "source": [
    "# if update page 1-100, 101-200, 201-300, ..., in a reverse order. from oldest to newest, \n",
    "# otherwise the order of records will be incorrect. you can delete the file and try again\n",
    "start = 1\n",
    "end = 9\n",
    "update_dmhy_cache(start,end)"
   ]
  },
  {
   "cell_type": "code",
   "execution_count": 5,
   "metadata": {},
   "outputs": [
    {
     "name": "stdout",
     "output_type": "stream",
     "text": [
      "updating page 9 ...\n",
      "updating page 8 ...\n",
      "updating page 7 ...\n",
      "updating page 6 ...\n",
      "updating page 5 ...\n",
      "updating page 4 ...\n",
      "updating page 3 ...\n",
      "updating page 2 ...\n",
      "updating page 1 ...\n"
     ]
    }
   ],
   "source": [
    "update_dmhy(start,end)"
   ]
  },
  {
   "cell_type": "code",
   "execution_count": null,
   "metadata": {},
   "outputs": [],
   "source": []
  },
  {
   "cell_type": "markdown",
   "metadata": {},
   "source": [
    "### Search"
   ]
  },
  {
   "cell_type": "code",
   "execution_count": 18,
   "metadata": {},
   "outputs": [],
   "source": [
    "# read records of the latest n months\n",
    "def read_history(months):\n",
    "    files = [i for i in sorted(os.listdir('dmhy'), reverse=True) if len(i)==11][0:months]\n",
    "    items = []\n",
    "    for i in files:\n",
    "        with open('dmhy/'+i, 'r',encoding='utf8') as f:\n",
    "            records = f.readlines()\n",
    "            for record in reversed(records):\n",
    "                record_ = record[:-1].split(',')\n",
    "                if len(record_) >3 and record_[3] != '':\n",
    "                    items.append(record_)     \n",
    "    return items\n",
    "\n",
    "# search records by rules\n",
    "def search_history(rules, months):\n",
    "    items = read_history(months)\n",
    "    results = {}\n",
    "    for rule in re.findall(r'{[\\s\\S]*?}',rules):\n",
    "        a = Rule(rule)\n",
    "        for item in items:\n",
    "            idx, score = a.match(item[1] + ' ' + item[2])\n",
    "            if idx != -1:\n",
    "                key = a.title_or[0] + ' ' + a.tostr(idx)\n",
    "                if not key in results:\n",
    "                    results[key] = []\n",
    "                results[key].append( [score] + item[1:])\n",
    "    for i in results.values():\n",
    "        i.sort(key = lambda x: x[0], reverse=True)\n",
    "    return results\n",
    "\n",
    "# download search results, return a list of title + magnet links\n",
    "def download(results, idx=0):\n",
    "    ret = []\n",
    "    for i in results.keys():\n",
    "        if i[-1] == '*':\n",
    "            title = i[:-2]\n",
    "            for j in results[i]:\n",
    "                print(i, j[0], j[1], j[2], j[-1], sep=',')\n",
    "                ret.append([title]+j[1:])\n",
    "        else:\n",
    "            title = i[:-3]\n",
    "            if results[i][0][0] > 0:\n",
    "                j = results[i][idx]\n",
    "                print(i, j[0], j[1], j[2], j[-1], sep=',')\n",
    "                ret.append([title] + j[1:])                \n",
    "    return ret\n",
    "\n",
    "class Rule():\n",
    "    def __init__(self, s):\n",
    "        temp = re.findall(r'title_or.*',s)[0]\n",
    "        self.title_or = re.findall(r\"'(.*?)'\",temp)\n",
    "        temp = re.findall(r'title_and.*',s)\n",
    "        if len(temp) == 0:\n",
    "            temp = [r\"\"\"'動畫','简|CHS|GB','1080'\"\"\"]\n",
    "        self.title_and = re.findall(r\"'(.*?)'\",temp[0])\n",
    "        temp = re.findall(r'epsode_re.*',s)\n",
    "        if len(temp)==0:\n",
    "            temp = [r\"\"\"'[^a-zA-Z0-9](\\d\\d)[^a-zA-Z0-9]'\"\"\"]\n",
    "        temp = re.findall(r\"'(.*?)'\",temp[0])\n",
    "        self.epsode_re = '' if len(temp)==0 else temp[0]  \n",
    "        temp = re.findall(r'epsodes.*',s)\n",
    "        if len(temp)==0:\n",
    "            temp = [r\"\"\"'*'\"\"\"]\n",
    "        epsodes_ = re.findall(r\"'(.*?)'\",temp[-1])\n",
    "        self.epsodes = []\n",
    "        for i in epsodes_:\n",
    "            if i == '*':\n",
    "                self.epsodes = ['*']\n",
    "                break\n",
    "            ii = i.split('-')\n",
    "            if len(ii) == 1:\n",
    "                self.epsodes.append(int(i))\n",
    "            elif len(ii) == 2:\n",
    "                self.epsodes += list(range(int(ii[0]),int(ii[1])+1))\n",
    "                \n",
    "    def show(self):\n",
    "        return  [','.join([\"'\"+i+\"'\" for i in self.title_or]), \n",
    "                 ','.join([\"'\"+i+\"'\" for i in self.title_and]), \n",
    "                           \"'\"+self.epsode_re+\"'\",\n",
    "                 ','.join([\"'\"+self.tostr(i)+\"'\" for i in self.epsodes])]\n",
    "    def tostr(self,n):\n",
    "        if n == '*':\n",
    "            return n\n",
    "        if n < 10:\n",
    "            return '0{}'.format(n)\n",
    "        else:\n",
    "            return '{}'.format(n)\n",
    "\n",
    "    def store(self):\n",
    "        ll = self.show()\n",
    "        r = '{\\n\\ttitle_or = ' + ll[0] + '\\n\\ttitle_and = ' + ll[1] + '\\n\\tepsode_re = ' + ll[2]  + '\\n\\tepsodes = ' + ll[3] + '\\n}'\n",
    "        return r\n",
    "    \n",
    "    def match(self,s):\n",
    "        count_title_or = 0\n",
    "        for i in self.title_or:\n",
    "            if len(re.findall(i,s))>0:\n",
    "                count_title_or += 1\n",
    "        count_title_and = 0\n",
    "        for i in self.title_and:\n",
    "            if len(re.findall(i,s))>0:\n",
    "                count_title_and += 1   \n",
    "        if count_title_or > 0:\n",
    "            if '*' in self.epsodes:\n",
    "                return '*', count_title_and\n",
    "            epsode_ = re.findall(self.epsode_re, s)\n",
    "            if len(epsode_) > 0 and re.match(r'\\d\\d', epsode_[-1]):\n",
    "                epsode = int(epsode_[-1])\n",
    "                if epsode in self.epsodes:\n",
    "                    return epsode, count_title_and\n",
    "        return -1, 0\n",
    "    def delete(self, epsode):\n",
    "        while epsode in self.epsodes:\n",
    "            self.epsodes.remove(epsode)"
   ]
  },
  {
   "cell_type": "code",
   "execution_count": 19,
   "metadata": {},
   "outputs": [
    {
     "name": "stdout",
     "output_type": "stream",
     "text": [
      "Big Order *,2,季度全集,[SAIO-Raws] 至高指令 Big Order 1-10+OVA [BD 1920x1080 HEVC-10bit OPUS][简繁内封字幕][無修正][乳],4.0GB\n"
     ]
    }
   ],
   "source": [
    "# title_or: accept if at least one regex is accepted. cannot be empty \n",
    "# title_and: init score is 0. each acception of regex contributes 1 point. items only have positive score will be downloaded\n",
    "# epsode_re: regex that find the epsode number from title. only support two digits\n",
    "# epsodes: list of epsode numbers to download. '01-03' as '01','02','03'. '*' means do not conside epsode number.\n",
    "\n",
    "rules = \"\"\"\n",
    "{\n",
    "\ttitle_or = 'Big Order'\n",
    "\ttitle_and = '简|CHS|GB','1080'\n",
    "\tepsode_re = '[^a-zA-Z0-9](\\d\\d)[^a-zA-Z0-9]'\n",
    "}\n",
    "\"\"\"\n",
    "\n",
    "results = search_history(rules,10) \n",
    "download_list = download(results,idx=0)"
   ]
  },
  {
   "cell_type": "code",
   "execution_count": 20,
   "metadata": {},
   "outputs": [
    {
     "data": {
      "text/plain": [
       "[['Big Order',\n",
       "  '季度全集',\n",
       "  '[SAIO-Raws] 至高指令 Big Order 1-10+OVA [BD 1920x1080 HEVC-10bit OPUS][简繁内封字幕][無修正][乳]',\n",
       "  'magnet:?xt=urn:btih:DDBBZRTIUH2Q2IQ3LFAFLIQYR4G3P7GO&dn=&tr=http%3A%2F%2F104.238.198.186%3A8000%2Fannounce&tr=udp%3A%2F%2F104.238.198.186%3A8000%2Fannounce&tr=http%3A%2F%2Ftracker.openbittorrent.com%3A80%2Fannounce&tr=udp%3A%2F%2Ftracker3.itzmx.com%3A6961%2Fannounce&tr=http%3A%2F%2Ftracker4.itzmx.com%3A2710%2Fannounce&tr=http%3A%2F%2Ftracker.publicbt.com%3A80%2Fannounce&tr=http%3A%2F%2Ftracker.prq.to%2Fannounce&tr=http%3A%2F%2Fopen.acgtracker.com%3A1096%2Fannounce&tr=https%3A%2F%2Ft-115.rhcloud.com%2Fonly_for_ylbud&tr=http%3A%2F%2Ftracker1.itzmx.com%3A8080%2Fannounce&tr=http%3A%2F%2Ftracker2.itzmx.com%3A6961%2Fannounce&tr=udp%3A%2F%2Ftracker1.itzmx.com%3A8080%2Fannounce&tr=udp%3A%2F%2Ftracker2.itzmx.com%3A6961%2Fannounce&tr=udp%3A%2F%2Ftracker3.itzmx.com%3A6961%2Fannounce&tr=udp%3A%2F%2Ftracker4.itzmx.com%3A2710%2Fannounce&tr=http%3A%2F%2Ftracker3.itzmx.com%3A6961%2Fannounce&tr=http%3A%2F%2Ftracker.opentrackr.org%3A1337%2Fannounce&tr=http%3A%2F%2Fnyaa.tracker.wf%3A7777%2Fannounce',\n",
       "  '4.0GB']]"
      ]
     },
     "execution_count": 20,
     "metadata": {},
     "output_type": "execute_result"
    }
   ],
   "source": [
    "download_list"
   ]
  },
  {
   "cell_type": "code",
   "execution_count": null,
   "metadata": {},
   "outputs": [],
   "source": []
  },
  {
   "cell_type": "code",
   "execution_count": 21,
   "metadata": {},
   "outputs": [],
   "source": [
    "# call aria2 to download  \n",
    "# https://aria2.github.io/manual/en/html/aria2c.html#rpc-interface\n",
    "\n",
    "s = xmlrpc.client.ServerProxy('http://localhost:6800/rpc')\n",
    "for i in download_list:\n",
    "    s.aria2.addUri([i[3]],{'dir': 'C:/Users/Sun/Desktop/video/{}'.format(i[0])})"
   ]
  },
  {
   "cell_type": "code",
   "execution_count": null,
   "metadata": {},
   "outputs": [],
   "source": []
  },
  {
   "cell_type": "code",
   "execution_count": null,
   "metadata": {},
   "outputs": [],
   "source": []
  },
  {
   "cell_type": "code",
   "execution_count": null,
   "metadata": {},
   "outputs": [],
   "source": []
  },
  {
   "cell_type": "code",
   "execution_count": null,
   "metadata": {},
   "outputs": [],
   "source": []
  },
  {
   "cell_type": "code",
   "execution_count": null,
   "metadata": {},
   "outputs": [],
   "source": []
  },
  {
   "cell_type": "code",
   "execution_count": null,
   "metadata": {},
   "outputs": [],
   "source": []
  },
  {
   "cell_type": "code",
   "execution_count": null,
   "metadata": {},
   "outputs": [],
   "source": []
  },
  {
   "cell_type": "code",
   "execution_count": null,
   "metadata": {},
   "outputs": [],
   "source": []
  }
 ],
 "metadata": {
  "kernelspec": {
   "display_name": "Python 3",
   "language": "python",
   "name": "python3"
  },
  "language_info": {
   "codemirror_mode": {
    "name": "ipython",
    "version": 3
   },
   "file_extension": ".py",
   "mimetype": "text/x-python",
   "name": "python",
   "nbconvert_exporter": "python",
   "pygments_lexer": "ipython3",
   "version": "3.8.3"
  }
 },
 "nbformat": 4,
 "nbformat_minor": 4
}
