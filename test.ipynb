{
 "cells": [
  {
   "cell_type": "code",
   "execution_count": 6,
   "metadata": {},
   "outputs": [],
   "source": [
    "import xmlrpc.client\n",
    "url = \"http://127.0.0.1:6800/rpc\" \n",
    "s = xmlrpc.client.ServerProxy(url)"
   ]
  },
  {
   "cell_type": "code",
   "execution_count": 10,
   "metadata": {},
   "outputs": [
    {
     "data": {
      "text/plain": [
       "{'downloadSpeed': '0',\n",
       " 'numActive': '1',\n",
       " 'numStopped': '1',\n",
       " 'numStoppedTotal': '1',\n",
       " 'numWaiting': '0',\n",
       " 'uploadSpeed': '0'}"
      ]
     },
     "execution_count": 10,
     "metadata": {},
     "output_type": "execute_result"
    }
   ],
   "source": [
    "s.aria2.getGlobalStat()"
   ]
  },
  {
   "cell_type": "code",
   "execution_count": 11,
   "metadata": {},
   "outputs": [
    {
     "data": {
      "text/plain": [
       "{'enabledFeatures': ['Async DNS',\n",
       "  'BitTorrent',\n",
       "  'Firefox3 Cookie',\n",
       "  'GZip',\n",
       "  'HTTPS',\n",
       "  'Message Digest',\n",
       "  'Metalink',\n",
       "  'XML-RPC',\n",
       "  'SFTP'],\n",
       " 'version': '1.35.0'}"
      ]
     },
     "execution_count": 11,
     "metadata": {},
     "output_type": "execute_result"
    }
   ],
   "source": [
    "s.aria2.getVersion()\n"
   ]
  },
  {
   "cell_type": "code",
   "execution_count": 10,
   "metadata": {},
   "outputs": [
    {
     "name": "stdout",
     "output_type": "stream",
     "text": [
      "hhhhhh\n",
      "hhhhhh\n",
      "hhhhhh\n",
      "hhhhhh\n",
      "hhhhhh\n",
      "hhhhhh\n",
      "hhhhhh\n",
      "hhhhhh\n",
      "hhhhhh\n",
      "hhhhhh\n",
      "hhhhhh\n",
      "hhhhhh\n",
      "hhhhhh\n",
      "hhhhhh\n",
      "hhhhhh\n",
      "hhhhhh\n",
      "hhhhhh\n"
     ]
    }
   ],
   "source": [
    "import threading\n",
    "import time \n",
    "import datetime\n",
    "\n",
    "from flask import Flask, render_template_string, request\n",
    "\n",
    "log = ['start\\n\\n'] \n",
    "config = 'hhhhhh'\n",
    "status = 'running'\n",
    "wait = False \n",
    "\n",
    "def run():\n",
    "    global status, config, log\n",
    "    while 1:\n",
    "        if wait:\n",
    "            status = 'waiting' \n",
    "            time.sleep(1)\n",
    "            continue \n",
    "        status = 'running' \n",
    "        log.append(f'config:{config}, time:{datetime.datetime.now()}\\n\\n')\n",
    "        time.sleep(1) \n",
    "        print(''.join(config))\n",
    "\n",
    "\n",
    "task = threading.Thread(target=run)\n",
    "task.start()\n",
    "\n",
    "\n",
    "app = Flask(__name__)\n",
    "\n",
    "# 定义接口把处理日志并返回到前端\n",
    "@app.route('/get_log',methods=['GET','POST'])\n",
    "def get_log():\n",
    "    return {\n",
    "        'log' : '\\n'.join(log), \n",
    "        'status': status,\n",
    "    }\n",
    " \n",
    "# 通过前端请求执行生成日志方法\n",
    "@app.route('/generation_log',methods=['GET','POST'])\n",
    "def generation_log_():\n",
    "    return ''\n",
    " \n",
    "@app.route('/', methods=['GET','POST'])\n",
    "def main():\n",
    "    return render_template_string(\"\"\"\n",
    "<!DOCTYPE html>\n",
    "<html lang=\"en\">\n",
    "<head>\n",
    "    <meta charset=\"UTF-8\">\n",
    "    <title>Title</title>\n",
    "    <style>\n",
    "        body{\n",
    "            margin: auto;\n",
    "            background-color: #f5f5f5;\n",
    "        }\n",
    "        .button{width: 200px;height: 50px;color:#FFFFFF;background-color: #1da1f2}\n",
    "        .text_box{\n",
    "            height: 500px;\n",
    "            width: 500px;\n",
    "            margin: 80px;\n",
    "            font-size: 18px;\n",
    "            color: #111111;\n",
    "            overflow-x: hidden;\n",
    "            overflow-y: auto;\n",
    "            border: 2px solid red;\n",
    "\n",
    "        }\n",
    "    </style>\n",
    "</head>\n",
    "<body>\n",
    "<button id=\"log_button\" class=\"button\">log</button>\n",
    "<button id=\"stop_button\" class=\"button\">stop</button>\n",
    "<button id=\"config_button\" class=\"button\">config</button>\n",
    "<div id='log_box', class=\"text_box\" > dfddf </div>\n",
    "<div id='config_box', class=\"text_box\" >  dsfdfsfd  </div>\n",
    "</body>\n",
    " \n",
    "<script src=\"http://libs.baidu.com/jquery/2.0.0/jquery.min.js\"></script>\n",
    "<script>\n",
    "    function log(){\n",
    "        var log_box = document.getElementById('log_box') //找到存放日志的块 \n",
    "\n",
    "        $.get('/get_log', {}, function (data){ \n",
    "            $('#log_box').text(data.log + data.status)\n",
    "        })\n",
    "    }\n",
    "    document.getElementById('log_button').addEventListener(\"click\",log) //点击开始按钮开始执行\n",
    "</script>\n",
    "</html>  \n",
    "\"\"\")\n",
    "\n",
    "\n",
    "# app.run(host='127.0.0.1', port = 6888)"
   ]
  },
  {
   "cell_type": "code",
   "execution_count": 16,
   "metadata": {},
   "outputs": [
    {
     "data": {
      "text/plain": [
       "'__main__'"
      ]
     },
     "execution_count": 16,
     "metadata": {},
     "output_type": "execute_result"
    }
   ],
   "source": [
    "__name__"
   ]
  },
  {
   "cell_type": "code",
   "execution_count": 16,
   "metadata": {},
   "outputs": [
    {
     "name": "stdout",
     "output_type": "stream",
     "text": [
      "[{'max_log_lines': 100, 'max_cache_items': 100, 'proxies_en': False, 'proxies_url': 'http://localhost:7890', 'sources': {'dmhy': ['https://www.dmhy.org/topics/list/page/{}', 8], 'nyaa': ['https://nyaa.si/?p={}', 0], 'dmhy2': ['https://dongmanhuayuan.myheartsite.com/api/acg/search', 0]}, 'aria2': 'http://127.0.0.1:6800/rpc', 'download_dir': 'E:/anime', 'title_must': ['動畫', '简|CHS|GB|繁|CHT|BIG5'], 'title_score': ['简|CHS|GB', '1080|2160'], 'epsodes': '[ \\\\[【第](\\\\d\\\\d)[v\\\\- \\\\]】（集话]'}, {'title': '忍者一时', 'filter': '忍者一时|Shinobi no Ittoki', 'epsodes': '1, 2, 3-4, 7+,', 'xxx': [1, 2, 3]}]\n"
     ]
    }
   ],
   "source": [
    "import yaml\n",
    "\n",
    "with open('config.yaml', 'r', encoding='utf8') as f:\n",
    "    conf = yaml.load(f, Loader=yaml.CLoader) \n",
    "print(conf)"
   ]
  },
  {
   "cell_type": "code",
   "execution_count": 27,
   "metadata": {},
   "outputs": [],
   "source": [
    "with open('config.yaml', 'w', encoding='utf8') as f:\n",
    "    conf = yaml.dump(conf, f, Dumper=yaml.CDumper, allow_unicode = True, sort_keys=False) "
   ]
  },
  {
   "cell_type": "code",
   "execution_count": 5,
   "metadata": {},
   "outputs": [
    {
     "ename": "SyntaxError",
     "evalue": "invalid syntax (739178893.py, line 1)",
     "output_type": "error",
     "traceback": [
      "\u001b[1;36m  File \u001b[1;32m\"C:\\Users\\sunsv\\AppData\\Local\\Temp\\ipykernel_18688\\739178893.py\"\u001b[1;36m, line \u001b[1;32m1\u001b[0m\n\u001b[1;33m    gloabl:\u001b[0m\n\u001b[1;37m           ^\u001b[0m\n\u001b[1;31mSyntaxError\u001b[0m\u001b[1;31m:\u001b[0m invalid syntax\n"
     ]
    }
   ],
   "source": [
    "gloabl:\n",
    "  download_dir: E:/anime\n",
    "  aria2: http://127.0.0.1:6800/rpc \n",
    "  filter: '[^a-zA-Z0-9](\\d\\d)[^a-zA-Z0-9]'\n",
    "\n",
    "忍者一时:\n",
    "  title: '忍者一时|Shinobi no Ittoki'\n",
    "  epsodes: 1, 2, 3-4, 7+, \n"
   ]
  },
  {
   "cell_type": "code",
   "execution_count": 8,
   "metadata": {},
   "outputs": [
    {
     "name": "stdout",
     "output_type": "stream",
     "text": [
      "- a: 1\n",
      "  x: 3\n",
      "- b: 2\n",
      "  y: 8\n",
      "\n"
     ]
    }
   ],
   "source": [
    "print(yaml.dump([{'a':1, 'x':3}, {'b':2, 'y':8}]))"
   ]
  },
  {
   "cell_type": "code",
   "execution_count": 17,
   "metadata": {},
   "outputs": [
    {
     "name": "stdout",
     "output_type": "stream",
     "text": [
      "- max_log_lines: 100\n",
      "  max_cache_items: 100\n",
      "  proxies_en: false\n",
      "  proxies_url: http://localhost:7890\n",
      "  sources:\n",
      "    dmhy:\n",
      "    - https://www.dmhy.org/topics/list/page/{}\n",
      "    - 8\n",
      "    nyaa:\n",
      "    - https://nyaa.si/?p={}\n",
      "    - 0\n",
      "    dmhy2:\n",
      "    - https://dongmanhuayuan.myheartsite.com/api/acg/search\n",
      "    - 0\n",
      "  aria2: http://127.0.0.1:6800/rpc\n",
      "  download_dir: E:/anime\n",
      "  title_must:\n",
      "  - 動畫\n",
      "  - 简|CHS|GB|繁|CHT|BIG5\n",
      "  title_score:\n",
      "  - 简|CHS|GB\n",
      "  - 1080|2160\n",
      "  epsodes: '[ \\[【第](\\d\\d)[v\\- \\]】（集话]'\n",
      "- title: 忍者一时\n",
      "  filter: 忍者一时|Shinobi no Ittoki\n",
      "  epsodes: 1, 2, 3-4, 7+,\n",
      "  xxx:\n",
      "  - 1\n",
      "  - 2\n",
      "  - 3\n",
      "\n"
     ]
    }
   ],
   "source": [
    "print(yaml.dump(conf, allow_unicode = True, sort_keys=False) )"
   ]
  },
  {
   "cell_type": "code",
   "execution_count": 27,
   "metadata": {},
   "outputs": [
    {
     "data": {
      "text/plain": [
       "'简CHSGB繁CHTBIG5'"
      ]
     },
     "execution_count": 27,
     "metadata": {},
     "output_type": "execute_result"
    }
   ],
   "source": [
    "import re \n",
    "re.sub(r'[<>/\\\\\\|:\"*? ]','', r\":简|C\\H?S|GB|繁|CHT|B*IG5\")"
   ]
  },
  {
   "cell_type": "code",
   "execution_count": 15,
   "metadata": {},
   "outputs": [
    {
     "data": {
      "text/plain": [
       "['2022-11-12.txt',\n",
       " '2022-11-11.txt',\n",
       " '2022-11-10.txt',\n",
       " '2022-11-09.txt',\n",
       " '2022-11-08.txt',\n",
       " '2022-11-07.txt',\n",
       " '2022-11-06.txt',\n",
       " '2022-11-05.txt',\n",
       " '2022-11-04.txt',\n",
       " '2022-11-03.txt',\n",
       " '2022-11-02.txt',\n",
       " '2022-11-01.txt',\n",
       " '2022-10-31.txt',\n",
       " '2022-10-30.txt',\n",
       " '2022-10-29.txt',\n",
       " '2022-10-28.txt',\n",
       " '2022-10-27.txt',\n",
       " '2022-10-26.txt',\n",
       " '2022-10-25.txt',\n",
       " '2022-10-24.txt',\n",
       " '2022-10-23.txt',\n",
       " '2022-10-22.txt',\n",
       " '2022-10-21.txt',\n",
       " '2022-10-20.txt',\n",
       " '2022-10-19.txt',\n",
       " '2022-10-18.txt',\n",
       " '2022-10-17.txt',\n",
       " '2022-10-16.txt',\n",
       " '2022-10-15.txt',\n",
       " '2022-10-14.txt',\n",
       " '2022-10-13.txt',\n",
       " '2022-10-12.txt',\n",
       " '2022-10-11.txt',\n",
       " '2022-10-10.txt',\n",
       " '2022-10-09.txt',\n",
       " '2022-10-08.txt',\n",
       " '2022-10-07.txt',\n",
       " '2022-10-06.txt',\n",
       " '2022-10-05.txt',\n",
       " '2022-10-04.txt',\n",
       " '2022-10-03.txt',\n",
       " '2022-10-02.txt',\n",
       " '2022-10-01.txt',\n",
       " '2022-09-30.txt',\n",
       " '2022-09-29.txt',\n",
       " '2022-09-28.txt',\n",
       " '2022-09-27.txt',\n",
       " '2022-09-26.txt',\n",
       " '2022-09-25.txt',\n",
       " '2022-09-24.txt',\n",
       " '2022-09-23.txt',\n",
       " '2022-09-22.txt',\n",
       " '2022-09-21.txt',\n",
       " '2022-09-20.txt',\n",
       " '2022-09-19.txt',\n",
       " '2022-09-18.txt',\n",
       " '2022-09-17.txt',\n",
       " '2022-09-16.txt',\n",
       " '2022-09-15.txt',\n",
       " '2022-09-14.txt',\n",
       " '2022-09-13.txt',\n",
       " '2022-09-12.txt',\n",
       " '2022-09-11.txt',\n",
       " '2022-09-10.txt',\n",
       " '2022-09-09.txt',\n",
       " '2022-09-08.txt',\n",
       " '2022-08-29.txt',\n",
       " '2022-08-28.txt',\n",
       " '2022-08-27.txt',\n",
       " '2022-08-26.txt',\n",
       " '2022-08-25.txt',\n",
       " '2022-08-24.txt',\n",
       " '2022-08-23.txt',\n",
       " '2022-08-22.txt',\n",
       " '2022-08-21.txt',\n",
       " '2022-08-20.txt',\n",
       " '2022-08-19.txt',\n",
       " '2022-08-18.txt',\n",
       " '2022-08-17.txt',\n",
       " '2022-08-16.txt',\n",
       " '2022-08-15.txt',\n",
       " '2022-08-14.txt',\n",
       " '2022-08-13.txt',\n",
       " '2022-08-12.txt',\n",
       " '2022-08-11.txt',\n",
       " '2022-08-10.txt',\n",
       " '2022-08-09.txt',\n",
       " '2022-08-07.txt',\n",
       " '2022-08-06.txt',\n",
       " '2022-08-05.txt',\n",
       " '2022-08-04.txt',\n",
       " '2022-08-03.txt',\n",
       " '2022-08-02.txt',\n",
       " '2022-08-01.txt',\n",
       " '2022-07-31.txt',\n",
       " '2022-07-30.txt',\n",
       " '2022-07-29.txt',\n",
       " '2022-07-28.txt',\n",
       " '2022-07-27.txt',\n",
       " '2022-07-26.txt',\n",
       " '2022-07-25.txt',\n",
       " '2022-07-24.txt',\n",
       " '2022-07-23.txt',\n",
       " '2022-07-22.txt',\n",
       " '2022-07-21.txt',\n",
       " '2022-07-20.txt',\n",
       " '2022-07-19.txt',\n",
       " '2022-07-18.txt',\n",
       " '2022-07-17.txt',\n",
       " '2022-07-16.txt',\n",
       " '2022-07-15.txt',\n",
       " '2022-07-14.txt',\n",
       " '2022-07-13.txt',\n",
       " '2022-07-12.txt',\n",
       " '2022-07-11.txt',\n",
       " '2022-07-10.txt',\n",
       " '2022-07-09.txt',\n",
       " '2022-07-08.txt',\n",
       " '2022-07-07.txt',\n",
       " '2022-07-06.txt',\n",
       " '2022-07-05.txt',\n",
       " '2022-07-04.txt',\n",
       " '2022-07-03.txt',\n",
       " '2022-07-02.txt',\n",
       " '2022-07-01.txt',\n",
       " '2022-06-30.txt',\n",
       " '2022-06-29.txt',\n",
       " '2022-06-28.txt',\n",
       " '2022-06-27.txt',\n",
       " '2022-06-26.txt',\n",
       " '2022-06-25.txt',\n",
       " '2022-06-24.txt',\n",
       " '2022-06-23.txt',\n",
       " '2022-06-22.txt',\n",
       " '2022-06-21.txt',\n",
       " '2022-06-20.txt',\n",
       " '2022-06-19.txt',\n",
       " '2022-06-18.txt',\n",
       " '2022-06-17.txt',\n",
       " '2022-06-16.txt',\n",
       " '2022-06-15.txt',\n",
       " '2022-06-14.txt',\n",
       " '2022-06-13.txt',\n",
       " '2022-06-12.txt',\n",
       " '2022-06-11.txt',\n",
       " '2022-06-10.txt',\n",
       " '2022-06-09.txt',\n",
       " '2022-06-08.txt',\n",
       " '2022-06-07.txt',\n",
       " '2022-06-06.txt',\n",
       " '2022-06-05.txt',\n",
       " '2022-06-04.txt',\n",
       " '2022-06-03.txt',\n",
       " '2022-06-02.txt',\n",
       " '2022-06-01.txt',\n",
       " '2022-05-31.txt',\n",
       " '2022-05-30.txt',\n",
       " '2022-05-29.txt',\n",
       " '2022-05-28.txt',\n",
       " '2022-05-27.txt',\n",
       " '2022-05-26.txt',\n",
       " '2022-05-25.txt',\n",
       " '2022-05-24.txt',\n",
       " '2022-05-23.txt',\n",
       " '2022-05-22.txt',\n",
       " '2022-05-21.txt',\n",
       " '2022-05-20.txt',\n",
       " '2022-05-19.txt',\n",
       " '2022-05-18.txt',\n",
       " '2022-05-17.txt',\n",
       " '2022-05-16.txt',\n",
       " '2022-05-15.txt',\n",
       " '2022-05-14.txt',\n",
       " '2022-05-13.txt',\n",
       " '2022-05-12.txt',\n",
       " '2022-05-11.txt',\n",
       " '2022-05-10.txt',\n",
       " '2022-05-09.txt',\n",
       " '2022-05-08.txt',\n",
       " '2022-05-07.txt',\n",
       " '2022-05-06.txt',\n",
       " '2022-05-05.txt',\n",
       " '2022-05-04.txt',\n",
       " '2022-05-03.txt',\n",
       " '2022-05-02.txt',\n",
       " '2022-05-01.txt',\n",
       " '2022-04-30.txt',\n",
       " '2022-04-29.txt',\n",
       " '2022-04-28.txt',\n",
       " '2022-04-27.txt',\n",
       " '2022-04-26.txt',\n",
       " '2022-04-25.txt',\n",
       " '2022-04-24.txt',\n",
       " '2022-04-23.txt',\n",
       " '2022-04-22.txt',\n",
       " '2022-04-21.txt',\n",
       " '2022-04-20.txt',\n",
       " '2022-04-19.txt',\n",
       " '2022-04-18.txt',\n",
       " '2022-04-17.txt',\n",
       " '2022-04-16.txt',\n",
       " '2022-04-15.txt',\n",
       " '2022-04-14.txt',\n",
       " '2022-04-13.txt',\n",
       " '2022-04-12.txt',\n",
       " '2022-04-11.txt',\n",
       " '2022-04-10.txt',\n",
       " '2022-04-09.txt',\n",
       " '2022-04-08.txt',\n",
       " '2022-04-07.txt',\n",
       " '2022-04-06.txt',\n",
       " '2022-04-05.txt',\n",
       " '2022-04-04.txt',\n",
       " '2022-04-03.txt',\n",
       " '2022-04-02.txt',\n",
       " '2022-04-01.txt',\n",
       " '2022-03-31.txt',\n",
       " '2022-03-30.txt',\n",
       " '2022-03-29.txt',\n",
       " '2022-03-28.txt',\n",
       " '2022-03-27.txt',\n",
       " '2022-03-26.txt',\n",
       " '2022-03-25.txt',\n",
       " '2022-03-24.txt',\n",
       " '2022-03-23.txt',\n",
       " '2022-03-22.txt',\n",
       " '2022-03-21.txt',\n",
       " '2022-03-20.txt',\n",
       " '2022-03-19.txt',\n",
       " '2022-03-18.txt',\n",
       " '2022-03-17.txt',\n",
       " '2022-03-16.txt',\n",
       " '2022-03-15.txt',\n",
       " '2022-03-14.txt',\n",
       " '2022-03-13.txt',\n",
       " '2022-03-12.txt',\n",
       " '2022-03-11.txt',\n",
       " '2022-03-10.txt',\n",
       " '2022-03-09.txt',\n",
       " '2022-03-08.txt',\n",
       " '2022-03-07.txt',\n",
       " '2022-03-06.txt',\n",
       " '2022-03-05.txt',\n",
       " '2022-03-04.txt',\n",
       " '2022-03-03.txt',\n",
       " '2022-03-02.txt',\n",
       " '2022-03-01.txt',\n",
       " '2022-02-28.txt',\n",
       " '2022-02-27.txt',\n",
       " '2022-02-26.txt',\n",
       " '2022-02-25.txt',\n",
       " '2022-02-24.txt',\n",
       " '2022-02-23.txt',\n",
       " '2022-02-22.txt',\n",
       " '2022-02-21.txt',\n",
       " '2022-02-20.txt',\n",
       " '2022-02-19.txt',\n",
       " '2022-02-18.txt',\n",
       " '2022-02-17.txt',\n",
       " '2022-02-16.txt',\n",
       " '2022-02-15.txt',\n",
       " '2022-02-13.txt',\n",
       " '2022-02-12.txt',\n",
       " '2022-02-11.txt',\n",
       " '2022-02-10.txt',\n",
       " '2022-02-09.txt',\n",
       " '2022-02-08.txt',\n",
       " '2022-02-07.txt',\n",
       " '2022-02-06.txt',\n",
       " '2022-02-05.txt',\n",
       " '2022-02-04.txt',\n",
       " '2022-02-03.txt',\n",
       " '2022-02-02.txt',\n",
       " '2022-02-01.txt',\n",
       " '2022-01-31.txt',\n",
       " '2022-01-30.txt',\n",
       " '2022-01-29.txt',\n",
       " '2022-01-28.txt',\n",
       " '2022-01-27.txt',\n",
       " '2022-01-26.txt',\n",
       " '2022-01-25.txt',\n",
       " '2022-01-24.txt',\n",
       " '2022-01-23.txt',\n",
       " '2022-01-22.txt',\n",
       " '2022-01-21.txt',\n",
       " '2022-01-20.txt',\n",
       " '2022-01-19.txt',\n",
       " '2022-01-18.txt',\n",
       " '2022-01-17.txt',\n",
       " '2022-01-16.txt',\n",
       " '2022-01-15.txt',\n",
       " '2022-01-14.txt',\n",
       " '2022-01-13.txt',\n",
       " '2022-01-12.txt',\n",
       " '2022-01-11.txt',\n",
       " '2022-01-10.txt',\n",
       " '2022-01-09.txt',\n",
       " '2022-01-07.txt',\n",
       " '2022-01-06.txt',\n",
       " '2022-01-05.txt',\n",
       " '2022-01-04.txt',\n",
       " '2022-01-03.txt',\n",
       " '2022-01-02.txt',\n",
       " '2022-01-01.txt',\n",
       " '2021-12-31.txt',\n",
       " '2021-12-30.txt',\n",
       " '2021-12-29.txt',\n",
       " '2021-12-28.txt',\n",
       " '2021-12-27.txt',\n",
       " '2021-12-26.txt',\n",
       " '2021-12-25.txt',\n",
       " '2021-12-24.txt',\n",
       " '2021-12-23.txt',\n",
       " '2021-12-22.txt',\n",
       " '2021-12-21.txt',\n",
       " '2021-12-20.txt',\n",
       " '2021-12-19.txt',\n",
       " '2021-12-08.txt',\n",
       " '2021-12-07.txt',\n",
       " '2021-12-06.txt',\n",
       " '2021-12-05.txt',\n",
       " '2021-12-04.txt',\n",
       " '2021-12-03.txt',\n",
       " '2021-12-02.txt',\n",
       " '2021-12-01.txt',\n",
       " '2021-11-30.txt',\n",
       " '2021-11-29.txt',\n",
       " '2021-11-28.txt',\n",
       " '2021-11-27.txt',\n",
       " '2021-11-26.txt',\n",
       " '2021-11-25.txt',\n",
       " '2021-11-24.txt',\n",
       " '2021-11-23.txt',\n",
       " '2021-11-22.txt',\n",
       " '2021-11-21.txt',\n",
       " '2021-11-20.txt',\n",
       " '2021-11-19.txt',\n",
       " '2021-11-18.txt',\n",
       " '2021-11-17.txt',\n",
       " '2021-11-16.txt',\n",
       " '2021-11-15.txt',\n",
       " '2021-11-14.txt',\n",
       " '2021-11-13.txt',\n",
       " '2021-11-12.txt',\n",
       " '2021-11-11.txt',\n",
       " '2021-11-10.txt',\n",
       " '2021-11-09.txt',\n",
       " '2021-11-08.txt',\n",
       " '2021-11-07.txt',\n",
       " '2021-11-06.txt',\n",
       " '2021-11-05.txt',\n",
       " '2021-11-04.txt',\n",
       " '2021-11-03.txt',\n",
       " '2021-11-02.txt',\n",
       " '2021-11-01.txt',\n",
       " '2021-10-31.txt',\n",
       " '2021-10-30.txt',\n",
       " '2021-10-29.txt',\n",
       " '2021-10-28.txt',\n",
       " '2021-10-27.txt',\n",
       " '2021-10-26.txt',\n",
       " '2021-10-25.txt',\n",
       " '2021-10-24.txt',\n",
       " '2021-10-23.txt',\n",
       " '2021-10-22.txt',\n",
       " '2021-10-21.txt',\n",
       " '2021-10-20.txt',\n",
       " '2021-10-19.txt',\n",
       " '2021-10-18.txt']"
      ]
     },
     "execution_count": 15,
     "metadata": {},
     "output_type": "execute_result"
    }
   ],
   "source": [
    "import os\n",
    "sorted(os.listdir('live_update/log/cache/dmhy/'), reverse=True)\n"
   ]
  },
  {
   "cell_type": "code",
   "execution_count": 33,
   "metadata": {},
   "outputs": [
    {
     "data": {
      "text/plain": [
       "'0b1111111111111111000'"
      ]
     },
     "execution_count": 33,
     "metadata": {},
     "output_type": "execute_result"
    }
   ],
   "source": [
    "i  = '3+'\n",
    "bin((~((1 << int(i[:-1])) - 1)) & 0b1111111111111111111)"
   ]
  },
  {
   "cell_type": "code",
   "execution_count": 57,
   "metadata": {},
   "outputs": [
    {
     "data": {
      "text/plain": [
       "'0b1111111111111111111111111111111001100110'"
      ]
     },
     "execution_count": 57,
     "metadata": {},
     "output_type": "execute_result"
    }
   ],
   "source": [
    "def epsode_str2int(self,a:str) -> set: # '1-2, 5-6, 9+' -> ...11111111001100110\n",
    "    ret = 0 \n",
    "    a = a.split(',')\n",
    "    for i in a:\n",
    "        if not i:\n",
    "            continue\n",
    "        if i[-1] == '+':        # '7+'\n",
    "            ret |= ~((1 << int(i[:-1])) - 1)\n",
    "            continue\n",
    "        ii = i.split('-') \n",
    "        if len(ii) == 1:\n",
    "            ret |= 1 << int(i) \n",
    "        elif len(ii) == 2:\n",
    "            ii = [int(ii[0]), int(ii[1])+1]\n",
    "            ret |= ((1 << ii[1]) - 1) & ~((1 << ii[0]) - 1) \n",
    "    return ret \n",
    "\n",
    "bin(epsode_str2int(1, '1-2, 5-6, 9+') & ((1<<40)-1))"
   ]
  },
  {
   "cell_type": "code",
   "execution_count": 61,
   "metadata": {},
   "outputs": [
    {
     "data": {
      "text/plain": [
       "['1-2', '5-6', '9-16']"
      ]
     },
     "execution_count": 61,
     "metadata": {},
     "output_type": "execute_result"
    }
   ],
   "source": [
    "def epsode_int2str(self, a: int) -> str:    # 11111111001100110 -> [\"01-03\", \"05-08\"]\n",
    "    ret = []\n",
    "    bit_idx = 0\n",
    "    while 1:\n",
    "        if a == 0:\n",
    "            break \n",
    "        elif a == -1:\n",
    "            ret.append(f'{bit_idx}+')\n",
    "            break \n",
    "        elif a & 1:\n",
    "            start = bit_idx  \n",
    "            while a & 1: \n",
    "                a >>= 1 \n",
    "                bit_idx += 1   \n",
    "            if start == bit_idx - 1:\n",
    "                ret.append(f'{start}')\n",
    "            else:\n",
    "                ret.append(f'{start}-{bit_idx-1}')\n",
    "        else:\n",
    "            bit_idx += 1 \n",
    "            a >>= 1 \n",
    "    return ret \n",
    "epsode_int2str(1, 0b11111111001100110)"
   ]
  },
  {
   "cell_type": "code",
   "execution_count": 52,
   "metadata": {},
   "outputs": [
    {
     "data": {
      "text/plain": [
       "''"
      ]
     },
     "execution_count": 52,
     "metadata": {},
     "output_type": "execute_result"
    }
   ],
   "source": [
    "','.join([])"
   ]
  },
  {
   "cell_type": "code",
   "execution_count": 58,
   "metadata": {},
   "outputs": [
    {
     "data": {
      "text/plain": [
       "-410"
      ]
     },
     "execution_count": 58,
     "metadata": {},
     "output_type": "execute_result"
    }
   ],
   "source": [
    "epsode_str2int(1, '1-2, 5-6, 9+')"
   ]
  },
  {
   "cell_type": "code",
   "execution_count": 65,
   "metadata": {},
   "outputs": [
    {
     "name": "stdout",
     "output_type": "stream",
     "text": [
      "3\n",
      "4545\n"
     ]
    }
   ],
   "source": [
    "class A:\n",
    "    def __iter__(self):\n",
    "        return iter({12:3,454:4545}.values())\n",
    "for i in A():\n",
    "    print(i)"
   ]
  },
  {
   "cell_type": "code",
   "execution_count": 98,
   "metadata": {},
   "outputs": [],
   "source": [
    "from dataclasses import dataclass \n",
    "\n",
    "@dataclass \n",
    "class Anime: \n",
    "    release_time: str = ''\n",
    "    release_type: str = ''\n",
    "    release_title: str = ''\n",
    "    release_magnet: str = ''\n",
    "    release_size: str = ''\n",
    "    score: int = 0 \n",
    "\n",
    "    def __post_init__(self):\n",
    "        self.score = 4\n",
    "\n",
    "    def __iter__(self):\n",
    "        return iter(self.__dict__.values()) \n",
    "\n",
    "    def __str__(self):\n",
    "        return ','.join([\n",
    "            self.release_time, \n",
    "            self.release_type, \n",
    "            self.release_title, \n",
    "            self.release_magnet,\n",
    "            self.release_size\n",
    "        ]) \n",
    "\n",
    "    @staticmethod \n",
    "    def load(s: str):\n",
    "        pass\n",
    "a = Anime()"
   ]
  },
  {
   "cell_type": "code",
   "execution_count": 94,
   "metadata": {},
   "outputs": [],
   "source": [
    "a.release_magnet = 'asfd'"
   ]
  },
  {
   "cell_type": "code",
   "execution_count": 99,
   "metadata": {},
   "outputs": [
    {
     "data": {
      "text/plain": [
       "Anime(release_time='', release_type='', release_title='', release_magnet='', release_size='', score=4)"
      ]
     },
     "execution_count": 99,
     "metadata": {},
     "output_type": "execute_result"
    }
   ],
   "source": [
    "- max_log_lines: 100\n",
    "  max_cache_items: 100\n",
    "  proxies_en: false\n",
    "  proxies_url: http://localhost:7890\n",
    "  sources:\n",
    "    dmhy:\n",
    "    - https://www.dmhy.org/topics/list/page/{}\n",
    "    - 8\n",
    "    nyaa:\n",
    "    - https://nyaa.si/?p={}\n",
    "    - 0\n",
    "    dmhy2:\n",
    "    - https://dongmanhuayuan.myheartsite.com/api/acg/search\n",
    "    - 0\n",
    "  aria2: http://127.0.0.1:6800/rpc\n",
    "  download_dir: E:/anime\n",
    "  title_must:\n",
    "  - 動畫\n",
    "  - 简|CHS|GB|繁|CHT|BIG5\n",
    "  title_score:\n",
    "  - 简|CHS|GB\n",
    "  - 1080|2160\n",
    "  epsodes: '[ \\[【第](\\d\\d)[v\\- \\]】（集话]'\n",
    "- filter: 忍者一时|Shinobi no Ittoki\n",
    "  epsodes: 1, 2, 3-4, 7+,\n"
   ]
  },
  {
   "cell_type": "code",
   "execution_count": 101,
   "metadata": {},
   "outputs": [
    {
     "data": {
      "text/plain": [
       "'dd'"
      ]
     },
     "execution_count": 101,
     "metadata": {},
     "output_type": "execute_result"
    }
   ],
   "source": [
    "_title_sub = re.compile(r'[\\n,]') \n",
    "_title_sub.sub('', '\\n\\n,,dd')"
   ]
  },
  {
   "cell_type": "code",
   "execution_count": 4,
   "metadata": {},
   "outputs": [
    {
     "data": {
      "text/plain": [
       "'001'"
      ]
     },
     "execution_count": 4,
     "metadata": {},
     "output_type": "execute_result"
    }
   ],
   "source": [
    "a = 1 \n",
    "f\"{a:0>3b}\""
   ]
  },
  {
   "cell_type": "code",
   "execution_count": 7,
   "metadata": {},
   "outputs": [
    {
     "data": {
      "text/plain": [
       "'2022-11-15 01:33:24.021392'"
      ]
     },
     "execution_count": 7,
     "metadata": {},
     "output_type": "execute_result"
    }
   ],
   "source": [
    "import datetime \n",
    "str(datetime.datetime.now())"
   ]
  },
  {
   "cell_type": "code",
   "execution_count": 8,
   "metadata": {},
   "outputs": [
    {
     "data": {
      "text/plain": [
       "<__main__.B at 0x1a599627a00>"
      ]
     },
     "execution_count": 8,
     "metadata": {},
     "output_type": "execute_result"
    }
   ],
   "source": [
    "class A:\n",
    "    def __init__(self) -> None:\n",
    "        print('aAFs')\n",
    "\n",
    "class B:\n",
    "    pass \n",
    "B()"
   ]
  },
  {
   "cell_type": "code",
   "execution_count": null,
   "metadata": {},
   "outputs": [],
   "source": [
    "- max_log_lines: 10000\n",
    "  max_cache_items: 500\n",
    "  download_dir: E:/anime2\n",
    "  aria2: http://127.0.0.1:6800/rpc\n",
    "  proxies_en: false\n",
    "  proxies_url: http://localhost:7890\n",
    "  sources:\n",
    "    dmhy:\n",
    "    - https://www.dmhy.org/topics/list/page/{}\n",
    "    - 8\n",
    "    nyaa:\n",
    "    - https://nyaa.si/?p={}\n",
    "    - 0\n",
    "    dmhy2:\n",
    "    - https://dongmanhuayuan.myheartsite.com/api/acg/search\n",
    "    - 0\n",
    "  title_epsodes: '[ \\[【第](\\d\\d)[v\\- \\]】（集话]'\n",
    "  title_must:\n",
    "  - 動畫\n",
    "  - 简|CHS|GB|繁|CHT|BIG5\n",
    "  title_score:\n",
    "  - 简|CHS|GB\n",
    "  - 1080|2160\n",
    "- filter: \"忍者一时|Shinobi no Ittoki\"\n",
    "  epsodes: 7+\n",
    "- filter: Next Summit\n",
    "  epsodes: 7+\n",
    "- filter: 人类毛病大学|Human Bug Daigaku\n",
    "  epsodes: 7+\n",
    "- filter: 想要成为影之实力者|Kage no Jitsuryokusha ni Naritakute\n",
    "  epsodes: 7+ \n",
    "- filter: Do It Yourself\n",
    "  epsodes: 7+\n",
    "- filter: 转生成为魔剑|Tensei shitara Ken deshita\n",
    "  epsodes: 8+\n",
    "- filter: Mob Psycho 100|Mob Psycho 100 S03|Mob Psycho 100 S3|Mob Psycho 100 III\n",
    "  epsodes: 7+\n",
    "- filter: Koibito Miman\n",
    "  epsodes: 6+\n",
    "- filter: 秋叶原冥途战争|Akiba Maid Sensou\n",
    "  epsodes: 6+ \n",
    "- filter: 恋爱FLOPS|flops\n",
    "  epsodes: 6+ \n",
    "- filter: '间谍过家家|SPY.*FAMILY'\n",
    "  epsodes: 19+ \n",
    "- filter: 孤独摇滚|Bocchi the Rock\n",
    "  epsodes: 6+ \n",
    "- filter: 机动战士高达 水星的魔女|Mobile Suit Gundam THE WITCH FROM MERCURY\n",
    "  epsodes: 7+ \n",
    "- filter: 各有小秘密|Uso wo Tsuku\n",
    "  epsodes: 5+ \n",
    "- filter: 彼得.*限制\n",
    "  epsodes: 6+ \n",
    "- filter: 死神|Sennen Kessen-hen\n",
    "  epsodes: 6+ \n",
    "- filter: 电锯人|Chainsaw\n",
    "  epsodes: 6+ "
   ]
  }
 ],
 "metadata": {
  "kernelspec": {
   "display_name": "Python 3.9.13 ('base')",
   "language": "python",
   "name": "python3"
  },
  "language_info": {
   "codemirror_mode": {
    "name": "ipython",
    "version": 3
   },
   "file_extension": ".py",
   "mimetype": "text/x-python",
   "name": "python",
   "nbconvert_exporter": "python",
   "pygments_lexer": "ipython3",
   "version": "3.9.13"
  },
  "orig_nbformat": 4,
  "vscode": {
   "interpreter": {
    "hash": "ad2bdc8ecc057115af97d19610ffacc2b4e99fae6737bb82f5d7fb13d2f2c186"
   }
  }
 },
 "nbformat": 4,
 "nbformat_minor": 2
}
