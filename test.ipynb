{
 "cells": [
  {
   "cell_type": "code",
   "execution_count": 6,
   "metadata": {},
   "outputs": [],
   "source": [
    "import xmlrpc.client\n",
    "url = \"http://127.0.0.1:6800/rpc\" \n",
    "s = xmlrpc.client.ServerProxy(url)"
   ]
  },
  {
   "cell_type": "code",
   "execution_count": 10,
   "metadata": {},
   "outputs": [
    {
     "data": {
      "text/plain": [
       "{'downloadSpeed': '0',\n",
       " 'numActive': '1',\n",
       " 'numStopped': '1',\n",
       " 'numStoppedTotal': '1',\n",
       " 'numWaiting': '0',\n",
       " 'uploadSpeed': '0'}"
      ]
     },
     "execution_count": 10,
     "metadata": {},
     "output_type": "execute_result"
    }
   ],
   "source": [
    "s.aria2.getGlobalStat()"
   ]
  },
  {
   "cell_type": "code",
   "execution_count": 11,
   "metadata": {},
   "outputs": [
    {
     "data": {
      "text/plain": [
       "{'enabledFeatures': ['Async DNS',\n",
       "  'BitTorrent',\n",
       "  'Firefox3 Cookie',\n",
       "  'GZip',\n",
       "  'HTTPS',\n",
       "  'Message Digest',\n",
       "  'Metalink',\n",
       "  'XML-RPC',\n",
       "  'SFTP'],\n",
       " 'version': '1.35.0'}"
      ]
     },
     "execution_count": 11,
     "metadata": {},
     "output_type": "execute_result"
    }
   ],
   "source": [
    "s.aria2.getVersion()\n"
   ]
  },
  {
   "cell_type": "code",
   "execution_count": 10,
   "metadata": {},
   "outputs": [
    {
     "name": "stdout",
     "output_type": "stream",
     "text": [
      "hhhhhh\n",
      "hhhhhh\n",
      "hhhhhh\n",
      "hhhhhh\n",
      "hhhhhh\n",
      "hhhhhh\n",
      "hhhhhh\n",
      "hhhhhh\n",
      "hhhhhh\n",
      "hhhhhh\n",
      "hhhhhh\n",
      "hhhhhh\n",
      "hhhhhh\n",
      "hhhhhh\n",
      "hhhhhh\n",
      "hhhhhh\n",
      "hhhhhh\n"
     ]
    }
   ],
   "source": [
    "import threading\n",
    "import time \n",
    "import datetime\n",
    "\n",
    "from flask import Flask, render_template_string, request\n",
    "\n",
    "log = ['start\\n\\n'] \n",
    "config = 'hhhhhh'\n",
    "status = 'running'\n",
    "wait = False \n",
    "\n",
    "def run():\n",
    "    global status, config, log\n",
    "    while 1:\n",
    "        if wait:\n",
    "            status = 'waiting' \n",
    "            time.sleep(1)\n",
    "            continue \n",
    "        status = 'running' \n",
    "        log.append(f'config:{config}, time:{datetime.datetime.now()}\\n\\n')\n",
    "        time.sleep(1) \n",
    "        print(''.join(config))\n",
    "\n",
    "\n",
    "task = threading.Thread(target=run)\n",
    "task.start()\n",
    "\n",
    "\n",
    "app = Flask(__name__)\n",
    "\n",
    "# 定义接口把处理日志并返回到前端\n",
    "@app.route('/get_log',methods=['GET','POST'])\n",
    "def get_log():\n",
    "    return {\n",
    "        'log' : '\\n'.join(log), \n",
    "        'status': status,\n",
    "    }\n",
    " \n",
    "# 通过前端请求执行生成日志方法\n",
    "@app.route('/generation_log',methods=['GET','POST'])\n",
    "def generation_log_():\n",
    "    return ''\n",
    " \n",
    "@app.route('/', methods=['GET','POST'])\n",
    "def main():\n",
    "    return render_template_string(\"\"\"\n",
    "<!DOCTYPE html>\n",
    "<html lang=\"en\">\n",
    "<head>\n",
    "    <meta charset=\"UTF-8\">\n",
    "    <title>Title</title>\n",
    "    <style>\n",
    "        body{\n",
    "            margin: auto;\n",
    "            background-color: #f5f5f5;\n",
    "        }\n",
    "        .button{width: 200px;height: 50px;color:#FFFFFF;background-color: #1da1f2}\n",
    "        .text_box{\n",
    "            height: 500px;\n",
    "            width: 500px;\n",
    "            margin: 80px;\n",
    "            font-size: 18px;\n",
    "            color: #111111;\n",
    "            overflow-x: hidden;\n",
    "            overflow-y: auto;\n",
    "            border: 2px solid red;\n",
    "\n",
    "        }\n",
    "    </style>\n",
    "</head>\n",
    "<body>\n",
    "<button id=\"log_button\" class=\"button\">log</button>\n",
    "<button id=\"stop_button\" class=\"button\">stop</button>\n",
    "<button id=\"config_button\" class=\"button\">config</button>\n",
    "<div id='log_box', class=\"text_box\" > dfddf </div>\n",
    "<div id='config_box', class=\"text_box\" >  dsfdfsfd  </div>\n",
    "</body>\n",
    " \n",
    "<script src=\"http://libs.baidu.com/jquery/2.0.0/jquery.min.js\"></script>\n",
    "<script>\n",
    "    function log(){\n",
    "        var log_box = document.getElementById('log_box') //找到存放日志的块 \n",
    "\n",
    "        $.get('/get_log', {}, function (data){ \n",
    "            $('#log_box').text(data.log + data.status)\n",
    "        })\n",
    "    }\n",
    "    document.getElementById('log_button').addEventListener(\"click\",log) //点击开始按钮开始执行\n",
    "</script>\n",
    "</html>  \n",
    "\"\"\")\n",
    "\n",
    "\n",
    "# app.run(host='127.0.0.1', port = 6888)"
   ]
  },
  {
   "cell_type": "code",
   "execution_count": 16,
   "metadata": {},
   "outputs": [
    {
     "data": {
      "text/plain": [
       "'__main__'"
      ]
     },
     "execution_count": 16,
     "metadata": {},
     "output_type": "execute_result"
    }
   ],
   "source": [
    "__name__"
   ]
  },
  {
   "cell_type": "code",
   "execution_count": 26,
   "metadata": {},
   "outputs": [
    {
     "name": "stdout",
     "output_type": "stream",
     "text": [
      "{'gloabl': {'download_dir': 'E:/anime', 'aria2': 'http://127.0.0.1:6800/rpc', 'filter': '[^a-zA-Z0-9](\\\\d\\\\d)[^a-zA-Z0-9]'}, '忍者一时': {'title': '忍者一时|Shinobi no Ittoki', 'epsodes': '1, 2, 3-4, 7+,'}}\n"
     ]
    }
   ],
   "source": [
    "import yaml\n",
    "\n",
    "with open('config.yaml', 'r', encoding='utf8') as f:\n",
    "    conf = yaml.load(f, Loader=yaml.CLoader) \n",
    "print(conf)"
   ]
  },
  {
   "cell_type": "code",
   "execution_count": 27,
   "metadata": {},
   "outputs": [],
   "source": [
    "with open('config.yaml', 'w', encoding='utf8') as f:\n",
    "    conf = yaml.dump(conf, f, Dumper=yaml.CDumper, allow_unicode = True) "
   ]
  },
  {
   "cell_type": "code",
   "execution_count": null,
   "metadata": {},
   "outputs": [],
   "source": [
    "gloabl:\n",
    "  download_dir: E:/anime\n",
    "  aria2: http://127.0.0.1:6800/rpc \n",
    "  filter: '[^a-zA-Z0-9](\\d\\d)[^a-zA-Z0-9]'\n",
    "\n",
    "忍者一时:\n",
    "  title: '忍者一时|Shinobi no Ittoki'\n",
    "  epsodes: 1, 2, 3-4, 7+, \n"
   ]
  }
 ],
 "metadata": {
  "kernelspec": {
   "display_name": "Python 3.9.13 ('base')",
   "language": "python",
   "name": "python3"
  },
  "language_info": {
   "codemirror_mode": {
    "name": "ipython",
    "version": 3
   },
   "file_extension": ".py",
   "mimetype": "text/x-python",
   "name": "python",
   "nbconvert_exporter": "python",
   "pygments_lexer": "ipython3",
   "version": "3.9.13"
  },
  "orig_nbformat": 4,
  "vscode": {
   "interpreter": {
    "hash": "ad2bdc8ecc057115af97d19610ffacc2b4e99fae6737bb82f5d7fb13d2f2c186"
   }
  }
 },
 "nbformat": 4,
 "nbformat_minor": 2
}
